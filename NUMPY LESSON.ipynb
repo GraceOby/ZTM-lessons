{
 "cells": [
  {
   "cell_type": "code",
   "execution_count": 53,
   "id": "4a4c523e",
   "metadata": {},
   "outputs": [],
   "source": [
    "import numpy as np"
   ]
  },
  {
   "cell_type": "markdown",
   "id": "e13f1b34",
   "metadata": {},
   "source": [
    "# Data Types and Attributes"
   ]
  },
  {
   "cell_type": "code",
   "execution_count": 54,
   "id": "375651c2",
   "metadata": {},
   "outputs": [
    {
     "data": {
      "text/plain": [
       "array([1, 2, 3, 4, 5])"
      ]
     },
     "execution_count": 54,
     "metadata": {},
     "output_type": "execute_result"
    }
   ],
   "source": [
    "#numpy has one main datatype and that is nd array\n",
    "a1 = np.array([1,2,3,4,5])\n",
    "a1"
   ]
  },
  {
   "cell_type": "code",
   "execution_count": 55,
   "id": "c5fd09da",
   "metadata": {},
   "outputs": [
    {
     "data": {
      "text/plain": [
       "numpy.ndarray"
      ]
     },
     "execution_count": 55,
     "metadata": {},
     "output_type": "execute_result"
    }
   ],
   "source": [
    "type(a1)"
   ]
  },
  {
   "cell_type": "code",
   "execution_count": 56,
   "id": "3fc12f19",
   "metadata": {},
   "outputs": [
    {
     "data": {
      "text/plain": [
       "array([[1, 2, 3],\n",
       "       [4, 5, 6]])"
      ]
     },
     "execution_count": 56,
     "metadata": {},
     "output_type": "execute_result"
    }
   ],
   "source": [
    "a2 = np.array([[1,2,3],\n",
    "              [4,5,6]])\n",
    "a2"
   ]
  },
  {
   "cell_type": "code",
   "execution_count": 57,
   "id": "782b7fd7",
   "metadata": {},
   "outputs": [
    {
     "data": {
      "text/plain": [
       "array([[[1, 2, 3],\n",
       "        [4, 5, 6],\n",
       "        [7, 8, 9]]])"
      ]
     },
     "execution_count": 57,
     "metadata": {},
     "output_type": "execute_result"
    }
   ],
   "source": [
    "a3 = np.array([[[1,2,3],\n",
    "               [4,5,6],\n",
    "               [7,8,9]]])\n",
    "a3"
   ]
  },
  {
   "cell_type": "code",
   "execution_count": 58,
   "id": "05b5c655",
   "metadata": {},
   "outputs": [
    {
     "data": {
      "text/plain": [
       "array([[[1, 2, 3],\n",
       "        [4, 5, 6],\n",
       "        [7, 8, 9]],\n",
       "\n",
       "       [[4, 5, 6],\n",
       "        [6, 7, 8],\n",
       "        [3, 4, 5]]])"
      ]
     },
     "execution_count": 58,
     "metadata": {},
     "output_type": "execute_result"
    }
   ],
   "source": [
    "a4 = np.array([[[1,2,3],\n",
    "               [4,5,6],\n",
    "               [7,8,9]],\n",
    "               \n",
    "              [[4,5,6],\n",
    "              [6,7,8],\n",
    "              [3,4,5]]])\n",
    "a4"
   ]
  },
  {
   "cell_type": "code",
   "execution_count": 59,
   "id": "3893a65d",
   "metadata": {},
   "outputs": [
    {
     "data": {
      "text/plain": [
       "(2, 3, 3)"
      ]
     },
     "execution_count": 59,
     "metadata": {},
     "output_type": "execute_result"
    }
   ],
   "source": [
    "a4.shape"
   ]
  },
  {
   "cell_type": "code",
   "execution_count": 60,
   "id": "537db635",
   "metadata": {},
   "outputs": [
    {
     "data": {
      "text/plain": [
       "3"
      ]
     },
     "execution_count": 60,
     "metadata": {},
     "output_type": "execute_result"
    }
   ],
   "source": [
    "a4.ndim"
   ]
  },
  {
   "cell_type": "code",
   "execution_count": 61,
   "id": "36eb238e",
   "metadata": {},
   "outputs": [
    {
     "data": {
      "text/plain": [
       "dtype('int32')"
      ]
     },
     "execution_count": 61,
     "metadata": {},
     "output_type": "execute_result"
    }
   ],
   "source": [
    "a4.dtype"
   ]
  },
  {
   "cell_type": "code",
   "execution_count": 62,
   "id": "9f3754a6",
   "metadata": {},
   "outputs": [
    {
     "data": {
      "text/plain": [
       "18"
      ]
     },
     "execution_count": 62,
     "metadata": {},
     "output_type": "execute_result"
    }
   ],
   "source": [
    "a4.size"
   ]
  },
  {
   "cell_type": "code",
   "execution_count": 63,
   "id": "31339226",
   "metadata": {},
   "outputs": [
    {
     "data": {
      "text/html": [
       "<div>\n",
       "<style scoped>\n",
       "    .dataframe tbody tr th:only-of-type {\n",
       "        vertical-align: middle;\n",
       "    }\n",
       "\n",
       "    .dataframe tbody tr th {\n",
       "        vertical-align: top;\n",
       "    }\n",
       "\n",
       "    .dataframe thead th {\n",
       "        text-align: right;\n",
       "    }\n",
       "</style>\n",
       "<table border=\"1\" class=\"dataframe\">\n",
       "  <thead>\n",
       "    <tr style=\"text-align: right;\">\n",
       "      <th></th>\n",
       "      <th>0</th>\n",
       "      <th>1</th>\n",
       "      <th>2</th>\n",
       "    </tr>\n",
       "  </thead>\n",
       "  <tbody>\n",
       "    <tr>\n",
       "      <th>0</th>\n",
       "      <td>1</td>\n",
       "      <td>2</td>\n",
       "      <td>3</td>\n",
       "    </tr>\n",
       "    <tr>\n",
       "      <th>1</th>\n",
       "      <td>4</td>\n",
       "      <td>5</td>\n",
       "      <td>6</td>\n",
       "    </tr>\n",
       "  </tbody>\n",
       "</table>\n",
       "</div>"
      ],
      "text/plain": [
       "   0  1  2\n",
       "0  1  2  3\n",
       "1  4  5  6"
      ]
     },
     "execution_count": 63,
     "metadata": {},
     "output_type": "execute_result"
    }
   ],
   "source": [
    "#create a dataframe from a numpy array\n",
    "import pandas as pd\n",
    "\n",
    "df = pd.DataFrame(a2)\n",
    "df"
   ]
  },
  {
   "cell_type": "markdown",
   "id": "53974eed",
   "metadata": {},
   "source": [
    "## Creating arrays in simpler ways"
   ]
  },
  {
   "cell_type": "code",
   "execution_count": 64,
   "id": "2ac2aafd",
   "metadata": {},
   "outputs": [
    {
     "data": {
      "text/plain": [
       "array([1, 2, 3, 4])"
      ]
     },
     "execution_count": 64,
     "metadata": {},
     "output_type": "execute_result"
    }
   ],
   "source": [
    "sample_array = np.array([1,2,3,4])\n",
    "sample_array"
   ]
  },
  {
   "cell_type": "code",
   "execution_count": 65,
   "id": "336d0cd1",
   "metadata": {},
   "outputs": [
    {
     "data": {
      "text/plain": [
       "dtype('int32')"
      ]
     },
     "execution_count": 65,
     "metadata": {},
     "output_type": "execute_result"
    }
   ],
   "source": [
    "sample_array.dtype"
   ]
  },
  {
   "cell_type": "code",
   "execution_count": 66,
   "id": "a7567043",
   "metadata": {},
   "outputs": [
    {
     "data": {
      "text/plain": [
       "array([1., 1., 1.])"
      ]
     },
     "execution_count": 66,
     "metadata": {},
     "output_type": "execute_result"
    }
   ],
   "source": [
    "ones = np.ones(3)\n",
    "ones"
   ]
  },
  {
   "cell_type": "code",
   "execution_count": 67,
   "id": "e3cedebd",
   "metadata": {},
   "outputs": [
    {
     "data": {
      "text/plain": [
       "array([[0., 0., 0.],\n",
       "       [0., 0., 0.]])"
      ]
     },
     "execution_count": 67,
     "metadata": {},
     "output_type": "execute_result"
    }
   ],
   "source": [
    "zeros  =  np.zeros((2,3))\n",
    "zeros"
   ]
  },
  {
   "cell_type": "code",
   "execution_count": 68,
   "id": "ad4b9795",
   "metadata": {},
   "outputs": [
    {
     "data": {
      "text/plain": [
       "array([0, 2, 4, 6, 8])"
      ]
     },
     "execution_count": 68,
     "metadata": {},
     "output_type": "execute_result"
    }
   ],
   "source": [
    "range_array = np.arange(0,10,2)\n",
    "range_array"
   ]
  },
  {
   "cell_type": "code",
   "execution_count": 69,
   "id": "c9973f4c",
   "metadata": {},
   "outputs": [
    {
     "data": {
      "text/plain": [
       "array([[9, 6, 2, 5],\n",
       "       [5, 1, 4, 5],\n",
       "       [0, 2, 2, 3]])"
      ]
     },
     "execution_count": 69,
     "metadata": {},
     "output_type": "execute_result"
    }
   ],
   "source": [
    "random_array = np.random.randint(0,10, size=(3,4))\n",
    "random_array"
   ]
  },
  {
   "cell_type": "code",
   "execution_count": 70,
   "id": "efb0a1d7",
   "metadata": {},
   "outputs": [
    {
     "data": {
      "text/plain": [
       "array([[0.4425105 , 0.57595235, 0.08484127, 0.2232836 ],\n",
       "       [0.21789022, 0.82559199, 0.4602414 , 0.54569237],\n",
       "       [0.78760976, 0.73986085, 0.72009758, 0.79782627]])"
      ]
     },
     "execution_count": 70,
     "metadata": {},
     "output_type": "execute_result"
    }
   ],
   "source": [
    "random_array2 = np.random.random((3,4))\n",
    "random_array2"
   ]
  },
  {
   "cell_type": "code",
   "execution_count": 71,
   "id": "ea49a816",
   "metadata": {},
   "outputs": [
    {
     "data": {
      "text/plain": [
       "array([[0.88189639, 0.82160469, 0.30594132, 0.74537515, 0.38821925],\n",
       "       [0.46966765, 0.71004438, 0.36512663, 0.92725033, 0.73218711],\n",
       "       [0.24383709, 0.67966439, 0.0595789 , 0.85628818, 0.49119819],\n",
       "       [0.5325947 , 0.15165596, 0.80458211, 0.61380902, 0.24922691]])"
      ]
     },
     "execution_count": 71,
     "metadata": {},
     "output_type": "execute_result"
    }
   ],
   "source": [
    "random_array2 = np.random.rand(4,5)\n",
    "random_array2"
   ]
  },
  {
   "cell_type": "code",
   "execution_count": 72,
   "id": "a1082883",
   "metadata": {},
   "outputs": [
    {
     "data": {
      "text/plain": [
       "array([[ 4, 13,  1, 14, 11],\n",
       "       [ 6,  3,  1,  4,  9],\n",
       "       [ 8, 12, 14, 10, 10],\n",
       "       [10,  4,  6,  2,  9]])"
      ]
     },
     "execution_count": 72,
     "metadata": {},
     "output_type": "execute_result"
    }
   ],
   "source": [
    "#what np.random.seed() is actaully used for:\n",
    "#It creates a pseudu random values that doesnt change in that cell and cross-platform\n",
    "\n",
    "random_array3 = np.random.randint(0,15, size=(4,5))\n",
    "random_array3"
   ]
  },
  {
   "cell_type": "code",
   "execution_count": 73,
   "id": "65528c3e",
   "metadata": {},
   "outputs": [
    {
     "data": {
      "text/plain": [
       "array([[0.22199317, 0.87073231, 0.20671916, 0.91861091, 0.48841119],\n",
       "       [0.61174386, 0.76590786, 0.51841799, 0.2968005 , 0.18772123],\n",
       "       [0.08074127, 0.7384403 , 0.44130922, 0.15830987, 0.87993703],\n",
       "       [0.27408646, 0.41423502, 0.29607993, 0.62878791, 0.57983781]])"
      ]
     },
     "execution_count": 73,
     "metadata": {},
     "output_type": "execute_result"
    }
   ],
   "source": [
    "np.random.seed(5)\n",
    "random_array5 = np.random.rand(4,5)\n",
    "random_array5"
   ]
  },
  {
   "cell_type": "markdown",
   "id": "abe02b53",
   "metadata": {},
   "source": [
    "# Viewing arrays and matrices"
   ]
  },
  {
   "cell_type": "code",
   "execution_count": 74,
   "id": "62f4af00",
   "metadata": {},
   "outputs": [
    {
     "data": {
      "text/plain": [
       "array([0, 1, 2, 3, 4, 5, 6, 9])"
      ]
     },
     "execution_count": 74,
     "metadata": {},
     "output_type": "execute_result"
    }
   ],
   "source": [
    "#How to find unique numbers in matrices\n",
    "np.unique(random_array)"
   ]
  },
  {
   "cell_type": "code",
   "execution_count": 75,
   "id": "ac02e166",
   "metadata": {},
   "outputs": [
    {
     "data": {
      "text/plain": [
       "array([[[1, 2, 7, 0],\n",
       "        [5, 0, 0, 4],\n",
       "        [4, 9, 3, 2]],\n",
       "\n",
       "       [[4, 6, 9, 3],\n",
       "        [3, 2, 1, 5],\n",
       "        [7, 4, 3, 1]]])"
      ]
     },
     "execution_count": 75,
     "metadata": {},
     "output_type": "execute_result"
    }
   ],
   "source": [
    "array1 = np.random.randint(10, size=(2,3,4))\n",
    "array1"
   ]
  },
  {
   "cell_type": "code",
   "execution_count": 76,
   "id": "24b20a8f",
   "metadata": {},
   "outputs": [
    {
     "data": {
      "text/plain": [
       "(2, 3, 4)"
      ]
     },
     "execution_count": 76,
     "metadata": {},
     "output_type": "execute_result"
    }
   ],
   "source": [
    "array1.shape"
   ]
  },
  {
   "cell_type": "code",
   "execution_count": 77,
   "id": "6f07cacf",
   "metadata": {},
   "outputs": [
    {
     "data": {
      "text/plain": [
       "array([[[7, 3, 1, 9],\n",
       "        [5, 7, 0, 9],\n",
       "        [6, 0, 5, 2]],\n",
       "\n",
       "       [[8, 6, 8, 0],\n",
       "        [5, 2, 0, 7],\n",
       "        [7, 6, 0, 0]],\n",
       "\n",
       "       [[8, 5, 5, 9],\n",
       "        [6, 4, 5, 2],\n",
       "        [8, 8, 1, 6]]])"
      ]
     },
     "execution_count": 77,
     "metadata": {},
     "output_type": "execute_result"
    }
   ],
   "source": [
    "array2 = np.random.randint(10, size=(3,3,4))\n",
    "array2"
   ]
  },
  {
   "cell_type": "code",
   "execution_count": 78,
   "id": "713b3793",
   "metadata": {},
   "outputs": [
    {
     "data": {
      "text/plain": [
       "array([[7, 3, 1, 9],\n",
       "       [5, 7, 0, 9],\n",
       "       [6, 0, 5, 2]])"
      ]
     },
     "execution_count": 78,
     "metadata": {},
     "output_type": "execute_result"
    }
   ],
   "source": [
    "array2[0]"
   ]
  },
  {
   "cell_type": "code",
   "execution_count": 79,
   "id": "1b53b944",
   "metadata": {},
   "outputs": [
    {
     "data": {
      "text/plain": [
       "5"
      ]
     },
     "execution_count": 79,
     "metadata": {},
     "output_type": "execute_result"
    }
   ],
   "source": [
    "array2[0,1,0]"
   ]
  },
  {
   "cell_type": "code",
   "execution_count": 80,
   "id": "528232ae",
   "metadata": {},
   "outputs": [
    {
     "data": {
      "text/plain": [
       "array([[[7, 3, 1, 9],\n",
       "        [5, 7, 0, 9],\n",
       "        [6, 0, 5, 2]],\n",
       "\n",
       "       [[8, 6, 8, 0],\n",
       "        [5, 2, 0, 7],\n",
       "        [7, 6, 0, 0]],\n",
       "\n",
       "       [[8, 5, 5, 9],\n",
       "        [6, 4, 5, 2],\n",
       "        [8, 8, 1, 6]]])"
      ]
     },
     "execution_count": 80,
     "metadata": {},
     "output_type": "execute_result"
    }
   ],
   "source": [
    "array2"
   ]
  },
  {
   "cell_type": "code",
   "execution_count": 81,
   "id": "99c2f3ae",
   "metadata": {},
   "outputs": [
    {
     "data": {
      "text/plain": [
       "array([[7, 3],\n",
       "       [5, 7]])"
      ]
     },
     "execution_count": 81,
     "metadata": {},
     "output_type": "execute_result"
    }
   ],
   "source": [
    "array2[0,:2,:2]"
   ]
  },
  {
   "cell_type": "code",
   "execution_count": 82,
   "id": "82589640",
   "metadata": {},
   "outputs": [
    {
     "data": {
      "text/plain": [
       "array([[0, 7],\n",
       "       [0, 0]])"
      ]
     },
     "execution_count": 82,
     "metadata": {},
     "output_type": "execute_result"
    }
   ],
   "source": [
    "array2[1,1:,2:]"
   ]
  },
  {
   "cell_type": "code",
   "execution_count": 83,
   "id": "e49156b6",
   "metadata": {},
   "outputs": [
    {
     "data": {
      "text/plain": [
       "array([[[[7, 5, 1, 8, 7],\n",
       "         [8, 2, 9, 7, 7],\n",
       "         [7, 9, 8, 4, 2],\n",
       "         [6, 4, 3, 0, 7]],\n",
       "\n",
       "        [[5, 5, 9, 6, 6],\n",
       "         [8, 2, 5, 8, 1],\n",
       "         [2, 7, 0, 8, 3],\n",
       "         [1, 0, 3, 2, 3]],\n",
       "\n",
       "        [[2, 9, 2, 1, 0],\n",
       "         [1, 9, 9, 0, 7],\n",
       "         [2, 6, 3, 7, 8],\n",
       "         [2, 6, 7, 7, 9]]],\n",
       "\n",
       "\n",
       "       [[[2, 7, 5, 3, 0],\n",
       "         [5, 4, 3, 8, 9],\n",
       "         [5, 8, 6, 7, 0],\n",
       "         [4, 6, 8, 4, 8]],\n",
       "\n",
       "        [[1, 9, 5, 4, 2],\n",
       "         [3, 4, 7, 6, 6],\n",
       "         [8, 0, 3, 5, 6],\n",
       "         [1, 1, 6, 0, 8]],\n",
       "\n",
       "        [[7, 5, 7, 6, 8],\n",
       "         [4, 4, 0, 7, 2],\n",
       "         [1, 8, 8, 1, 3],\n",
       "         [1, 3, 6, 7, 4]]]])"
      ]
     },
     "execution_count": 83,
     "metadata": {},
     "output_type": "execute_result"
    }
   ],
   "source": [
    "np.random.seed(4)\n",
    "array3 =  np.random.randint(10, size=(2,3,4,5))\n",
    "array3"
   ]
  },
  {
   "cell_type": "markdown",
   "id": "80871c35",
   "metadata": {},
   "source": [
    "## Manipulating Arrays"
   ]
  },
  {
   "cell_type": "code",
   "execution_count": 84,
   "id": "c021c38c",
   "metadata": {},
   "outputs": [
    {
     "data": {
      "text/plain": [
       "array([[16,  7, 19, 10],\n",
       "       [ 7,  9, 15,  9],\n",
       "       [ 3, 10,  2,  6]])"
      ]
     },
     "execution_count": 84,
     "metadata": {},
     "output_type": "execute_result"
    }
   ],
   "source": [
    "#numpy aggregate functions\n",
    "arr = np.random.randint(20, size=(3,4))\n",
    "arr"
   ]
  },
  {
   "cell_type": "code",
   "execution_count": 85,
   "id": "b6c540a8",
   "metadata": {},
   "outputs": [
    {
     "data": {
      "text/plain": [
       "(113, 9.416666666666666, 4.889756867393533, 23.909722222222218)"
      ]
     },
     "execution_count": 85,
     "metadata": {},
     "output_type": "execute_result"
    }
   ],
   "source": [
    "np.sum(arr), np.mean(arr), np.std(arr), np.var(arr), "
   ]
  },
  {
   "cell_type": "code",
   "execution_count": 86,
   "id": "214f0277",
   "metadata": {},
   "outputs": [
    {
     "data": {
      "text/plain": [
       "array([[2.77258872, 1.94591015, 2.94443898, 2.30258509],\n",
       "       [1.94591015, 2.19722458, 2.7080502 , 2.19722458],\n",
       "       [1.09861229, 2.30258509, 0.69314718, 1.79175947]])"
      ]
     },
     "execution_count": 86,
     "metadata": {},
     "output_type": "execute_result"
    }
   ],
   "source": [
    "np.log(arr)"
   ]
  },
  {
   "cell_type": "code",
   "execution_count": 87,
   "id": "fa0f4693",
   "metadata": {},
   "outputs": [
    {
     "data": {
      "text/plain": [
       "array([[8.88611052e+06, 1.09663316e+03, 1.78482301e+08, 2.20264658e+04],\n",
       "       [1.09663316e+03, 8.10308393e+03, 3.26901737e+06, 8.10308393e+03],\n",
       "       [2.00855369e+01, 2.20264658e+04, 7.38905610e+00, 4.03428793e+02]])"
      ]
     },
     "execution_count": 87,
     "metadata": {},
     "output_type": "execute_result"
    }
   ],
   "source": [
    "np.exp(arr)\n",
    "#if you can think/need it, a function for it probably exists..."
   ]
  },
  {
   "cell_type": "code",
   "execution_count": 88,
   "id": "9fbf858c",
   "metadata": {},
   "outputs": [],
   "source": [
    "new_array1 = np.array([2,4,6,8,10])\n",
    "new_array2 = np.array([100,1000,10000,100000,1000000])"
   ]
  },
  {
   "cell_type": "code",
   "execution_count": 89,
   "id": "7236a1e9",
   "metadata": {},
   "outputs": [],
   "source": [
    "%matplotlib inline\n",
    "import matplotlib.pyplot as plt"
   ]
  },
  {
   "cell_type": "code",
   "execution_count": 90,
   "id": "676d3006",
   "metadata": {},
   "outputs": [
    {
     "data": {
      "image/png": "[encoded data removed]",
      "text/plain": [
       "<Figure size 432x288 with 1 Axes>"
      ]
     },
     "metadata": {
      "needs_background": "light"
     },
     "output_type": "display_data"
    }
   ],
   "source": [
    "plt.hist(new_array1)\n",
    "plt.show()"
   ]
  },
  {
   "cell_type": "code",
   "execution_count": 91,
   "id": "532ea6f3",
   "metadata": {},
   "outputs": [
    {
     "data": {
      "image/png": "[encoded data removed]",
      "text/plain": [
       "<Figure size 432x288 with 1 Axes>"
      ]
     },
     "metadata": {
      "needs_background": "light"
     },
     "output_type": "display_data"
    }
   ],
   "source": [
    "plt.hist(new_array2)\n",
    "plt.show()"
   ]
  },
  {
   "cell_type": "markdown",
   "id": "801c0748",
   "metadata": {},
   "source": [
    "### Dot product in practical example"
   ]
  },
  {
   "cell_type": "code",
   "execution_count": 92,
   "id": "4735d6e8",
   "metadata": {},
   "outputs": [
    {
     "data": {
      "text/plain": [
       "array([[19, 10,  6],\n",
       "       [13, 13, 23],\n",
       "       [14, 12, 18],\n",
       "       [13,  9, 23],\n",
       "       [17, 11, 15]])"
      ]
     },
     "execution_count": 92,
     "metadata": {},
     "output_type": "execute_result"
    }
   ],
   "source": [
    "np.random.seed(4)\n",
    "sales = np.random.randint(5,25, size=(5,3))\n",
    "sales"
   ]
  },
  {
   "cell_type": "code",
   "execution_count": 93,
   "id": "c8aac179",
   "metadata": {
    "scrolled": true
   },
   "outputs": [
    {
     "data": {
      "text/html": [
       "<div>\n",
       "<style scoped>\n",
       "    .dataframe tbody tr th:only-of-type {\n",
       "        vertical-align: middle;\n",
       "    }\n",
       "\n",
       "    .dataframe tbody tr th {\n",
       "        vertical-align: top;\n",
       "    }\n",
       "\n",
       "    .dataframe thead th {\n",
       "        text-align: right;\n",
       "    }\n",
       "</style>\n",
       "<table border=\"1\" class=\"dataframe\">\n",
       "  <thead>\n",
       "    <tr style=\"text-align: right;\">\n",
       "      <th></th>\n",
       "      <th>Product1</th>\n",
       "      <th>Product2</th>\n",
       "      <th>Product3</th>\n",
       "    </tr>\n",
       "  </thead>\n",
       "  <tbody>\n",
       "    <tr>\n",
       "      <th>Mon</th>\n",
       "      <td>19</td>\n",
       "      <td>10</td>\n",
       "      <td>6</td>\n",
       "    </tr>\n",
       "    <tr>\n",
       "      <th>Tues</th>\n",
       "      <td>13</td>\n",
       "      <td>13</td>\n",
       "      <td>23</td>\n",
       "    </tr>\n",
       "    <tr>\n",
       "      <th>Wed</th>\n",
       "      <td>14</td>\n",
       "      <td>12</td>\n",
       "      <td>18</td>\n",
       "    </tr>\n",
       "    <tr>\n",
       "      <th>Thur</th>\n",
       "      <td>13</td>\n",
       "      <td>9</td>\n",
       "      <td>23</td>\n",
       "    </tr>\n",
       "    <tr>\n",
       "      <th>Fri</th>\n",
       "      <td>17</td>\n",
       "      <td>11</td>\n",
       "      <td>15</td>\n",
       "    </tr>\n",
       "  </tbody>\n",
       "</table>\n",
       "</div>"
      ],
      "text/plain": [
       "      Product1  Product2  Product3\n",
       "Mon         19        10         6\n",
       "Tues        13        13        23\n",
       "Wed         14        12        18\n",
       "Thur        13         9        23\n",
       "Fri         17        11        15"
      ]
     },
     "execution_count": 93,
     "metadata": {},
     "output_type": "execute_result"
    }
   ],
   "source": [
    "weekly_sales = pd.DataFrame(sales, \n",
    "                            index=[\"Mon\", \"Tues\",\"Wed\", \"Thur\", \"Fri\"],\n",
    "                           columns=[\"Product1\", \"Product2\", \"Product3\"])\n",
    "weekly_sales"
   ]
  },
  {
   "cell_type": "code",
   "execution_count": 94,
   "id": "2a3ec670",
   "metadata": {},
   "outputs": [
    {
     "data": {
      "text/html": [
       "<div>\n",
       "<style scoped>\n",
       "    .dataframe tbody tr th:only-of-type {\n",
       "        vertical-align: middle;\n",
       "    }\n",
       "\n",
       "    .dataframe tbody tr th {\n",
       "        vertical-align: top;\n",
       "    }\n",
       "\n",
       "    .dataframe thead th {\n",
       "        text-align: right;\n",
       "    }\n",
       "</style>\n",
       "<table border=\"1\" class=\"dataframe\">\n",
       "  <thead>\n",
       "    <tr style=\"text-align: right;\">\n",
       "      <th></th>\n",
       "      <th>Product1</th>\n",
       "      <th>Product2</th>\n",
       "      <th>Product2</th>\n",
       "    </tr>\n",
       "  </thead>\n",
       "  <tbody>\n",
       "    <tr>\n",
       "      <th>Price</th>\n",
       "      <td>10</td>\n",
       "      <td>8</td>\n",
       "      <td>15</td>\n",
       "    </tr>\n",
       "  </tbody>\n",
       "</table>\n",
       "</div>"
      ],
      "text/plain": [
       "       Product1  Product2  Product2\n",
       "Price        10         8        15"
      ]
     },
     "execution_count": 94,
     "metadata": {},
     "output_type": "execute_result"
    }
   ],
   "source": [
    "prices = np.array([10,8,15])\n",
    "price = pd.DataFrame(prices.reshape(1,3), \n",
    "                    index=[\"Price\"],\n",
    "                    columns=[\"Product1\", \"Product2\", \"Product2\"])\n",
    "price"
   ]
  },
  {
   "cell_type": "code",
   "execution_count": 95,
   "id": "e19c07be",
   "metadata": {},
   "outputs": [
    {
     "data": {
      "text/plain": [
       "((5, 3), (3,))"
      ]
     },
     "execution_count": 95,
     "metadata": {},
     "output_type": "execute_result"
    }
   ],
   "source": [
    "sales.shape, prices.shape"
   ]
  },
  {
   "cell_type": "code",
   "execution_count": 96,
   "id": "90bc4488",
   "metadata": {},
   "outputs": [
    {
     "data": {
      "text/html": [
       "<div>\n",
       "<style scoped>\n",
       "    .dataframe tbody tr th:only-of-type {\n",
       "        vertical-align: middle;\n",
       "    }\n",
       "\n",
       "    .dataframe tbody tr th {\n",
       "        vertical-align: top;\n",
       "    }\n",
       "\n",
       "    .dataframe thead th {\n",
       "        text-align: right;\n",
       "    }\n",
       "</style>\n",
       "<table border=\"1\" class=\"dataframe\">\n",
       "  <thead>\n",
       "    <tr style=\"text-align: right;\">\n",
       "      <th></th>\n",
       "      <th>Product1</th>\n",
       "      <th>Product2</th>\n",
       "      <th>Product3</th>\n",
       "      <th>Total ($)</th>\n",
       "    </tr>\n",
       "  </thead>\n",
       "  <tbody>\n",
       "    <tr>\n",
       "      <th>Mon</th>\n",
       "      <td>19</td>\n",
       "      <td>10</td>\n",
       "      <td>6</td>\n",
       "      <td>360</td>\n",
       "    </tr>\n",
       "    <tr>\n",
       "      <th>Tues</th>\n",
       "      <td>13</td>\n",
       "      <td>13</td>\n",
       "      <td>23</td>\n",
       "      <td>579</td>\n",
       "    </tr>\n",
       "    <tr>\n",
       "      <th>Wed</th>\n",
       "      <td>14</td>\n",
       "      <td>12</td>\n",
       "      <td>18</td>\n",
       "      <td>506</td>\n",
       "    </tr>\n",
       "    <tr>\n",
       "      <th>Thur</th>\n",
       "      <td>13</td>\n",
       "      <td>9</td>\n",
       "      <td>23</td>\n",
       "      <td>547</td>\n",
       "    </tr>\n",
       "    <tr>\n",
       "      <th>Fri</th>\n",
       "      <td>17</td>\n",
       "      <td>11</td>\n",
       "      <td>15</td>\n",
       "      <td>483</td>\n",
       "    </tr>\n",
       "  </tbody>\n",
       "</table>\n",
       "</div>"
      ],
      "text/plain": [
       "      Product1  Product2  Product3  Total ($)\n",
       "Mon         19        10         6        360\n",
       "Tues        13        13        23        579\n",
       "Wed         14        12        18        506\n",
       "Thur        13         9        23        547\n",
       "Fri         17        11        15        483"
      ]
     },
     "execution_count": 96,
     "metadata": {},
     "output_type": "execute_result"
    }
   ],
   "source": [
    "weekly_sales[\"Total ($)\"] = sales.dot(prices).T\n",
    "weekly_sales"
   ]
  },
  {
   "cell_type": "markdown",
   "id": "086f23aa",
   "metadata": {},
   "source": [
    "### Sorting arrays"
   ]
  },
  {
   "cell_type": "code",
   "execution_count": 97,
   "id": "06dc8714",
   "metadata": {},
   "outputs": [
    {
     "data": {
      "text/plain": [
       "array([[9, 3, 4, 0, 9],\n",
       "       [1, 9, 1, 4, 1],\n",
       "       [8, 2, 4, 2, 5]])"
      ]
     },
     "execution_count": 97,
     "metadata": {},
     "output_type": "execute_result"
    }
   ],
   "source": [
    "np.random.seed(6)\n",
    "array_sort = np.random.randint(10, size=(3,5))\n",
    "array_sort"
   ]
  },
  {
   "cell_type": "code",
   "execution_count": 98,
   "id": "05914274",
   "metadata": {},
   "outputs": [
    {
     "data": {
      "text/plain": [
       "array([[0, 3, 4, 9, 9],\n",
       "       [1, 1, 1, 4, 9],\n",
       "       [2, 2, 4, 5, 8]])"
      ]
     },
     "execution_count": 98,
     "metadata": {},
     "output_type": "execute_result"
    }
   ],
   "source": [
    "#this sorts row by row\n",
    "np.sort(array_sort)"
   ]
  },
  {
   "cell_type": "code",
   "execution_count": 99,
   "id": "7560934d",
   "metadata": {},
   "outputs": [
    {
     "data": {
      "text/plain": [
       "array([[3, 1, 2, 0, 4],\n",
       "       [0, 2, 4, 3, 1],\n",
       "       [1, 3, 2, 4, 0]], dtype=int64)"
      ]
     },
     "execution_count": 99,
     "metadata": {},
     "output_type": "execute_result"
    }
   ],
   "source": [
    "#while argsort() gives the index\n",
    "np.argsort(array_sort)"
   ]
  },
  {
   "cell_type": "raw",
   "id": "d208d40c",
   "metadata": {},
   "source": []
  },
  {
   "cell_type": "raw",
   "id": "0ac63ad6",
   "metadata": {},
   "source": []
  },
  {
   "cell_type": "code",
   "execution_count": 100,
   "id": "893ffb15",
   "metadata": {},
   "outputs": [
    {
     "data": {
      "text/plain": [
       "array([[9, 3, 4, 0, 9],\n",
       "       [1, 9, 1, 4, 1],\n",
       "       [8, 2, 4, 2, 5]])"
      ]
     },
     "execution_count": 100,
     "metadata": {},
     "output_type": "execute_result"
    }
   ],
   "source": [
    "array_sort"
   ]
  },
  {
   "cell_type": "code",
   "execution_count": 101,
   "id": "ef43ba88",
   "metadata": {},
   "outputs": [
    {
     "data": {
      "text/plain": [
       "array([1, 2, 1, 0, 1], dtype=int64)"
      ]
     },
     "execution_count": 101,
     "metadata": {},
     "output_type": "execute_result"
    }
   ],
   "source": [
    "np.argmin(array_sort, axis=0)"
   ]
  },
  {
   "cell_type": "code",
   "execution_count": 102,
   "id": "eaa4ef2a",
   "metadata": {},
   "outputs": [
    {
     "data": {
      "text/plain": [
       "(6, 3, array([6, 7, 0, 2, 1, 4, 5, 3], dtype=int64))"
      ]
     },
     "execution_count": 102,
     "metadata": {},
     "output_type": "execute_result"
    }
   ],
   "source": [
    "a = np.array([2,5,3,7,5,6,0,1])\n",
    "np.argmin(a), np.argmax(a), np.argsort(a)"
   ]
  },
  {
   "cell_type": "markdown",
   "id": "c2de7002",
   "metadata": {},
   "source": [
    "### Exercise"
   ]
  },
  {
   "cell_type": "markdown",
   "id": "257ed40b",
   "metadata": {},
   "source": [
    "![](panda.png)"
   ]
  },
  {
   "cell_type": "markdown",
   "id": "346b3e22",
   "metadata": {},
   "source": [
    "<img src = \"panda.png\">"
   ]
  },
  {
   "cell_type": "code",
   "execution_count": 103,
   "id": "35b00b2d",
   "metadata": {},
   "outputs": [
    {
     "data": {
      "text/plain": [
       "((2330, 3500, 3), numpy.ndarray, 24465000, 3)"
      ]
     },
     "execution_count": 103,
     "metadata": {},
     "output_type": "execute_result"
    }
   ],
   "source": [
    "#Turning an image into a numpy array\n",
    "\n",
    "from matplotlib.image import imread\n",
    "\n",
    "panda = imread(\"panda.png\")\n",
    "panda.shape, type(panda), panda.size, panda.ndim"
   ]
  },
  {
   "cell_type": "code",
   "execution_count": 104,
   "id": "741a653d",
   "metadata": {},
   "outputs": [
    {
     "data": {
      "text/plain": [
       "array([[[0.05490196, 0.10588235, 0.06666667],\n",
       "        [0.05490196, 0.10588235, 0.06666667],\n",
       "        [0.05490196, 0.10588235, 0.06666667],\n",
       "        ...,\n",
       "        [0.16470589, 0.12941177, 0.09411765],\n",
       "        [0.16470589, 0.12941177, 0.09411765],\n",
       "        [0.16470589, 0.12941177, 0.09411765]],\n",
       "\n",
       "       [[0.05490196, 0.10588235, 0.06666667],\n",
       "        [0.05490196, 0.10588235, 0.06666667],\n",
       "        [0.05490196, 0.10588235, 0.06666667],\n",
       "        ...,\n",
       "        [0.16470589, 0.12941177, 0.09411765],\n",
       "        [0.16470589, 0.12941177, 0.09411765],\n",
       "        [0.16470589, 0.12941177, 0.09411765]]], dtype=float32)"
      ]
     },
     "execution_count": 104,
     "metadata": {},
     "output_type": "execute_result"
    }
   ],
   "source": [
    "panda[:2]"
   ]
  },
  {
   "cell_type": "markdown",
   "id": "2737fac7",
   "metadata": {},
   "source": [
    "<img src = \"dog-photo.png\"/>"
   ]
  },
  {
   "cell_type": "code",
   "execution_count": 105,
   "id": "431dd6e5",
   "metadata": {},
   "outputs": [
    {
     "data": {
      "text/plain": [
       "array([[0.69803923, 0.80784315, 0.8862745 , 1.        ],\n",
       "       [0.69803923, 0.8039216 , 0.8862745 , 1.        ],\n",
       "       [0.7137255 , 0.8117647 , 0.8901961 , 1.        ],\n",
       "       ...,\n",
       "       [0.5176471 , 0.69803923, 0.84705883, 1.        ],\n",
       "       [0.5176471 , 0.69803923, 0.8392157 , 1.        ],\n",
       "       [0.50980395, 0.69411767, 0.84313726, 1.        ]], dtype=float32)"
      ]
     },
     "execution_count": 105,
     "metadata": {},
     "output_type": "execute_result"
    }
   ],
   "source": [
    "dog = imread(\"dog-photo.png\")\n",
    "dog[5]"
   ]
  },
  {
   "cell_type": "markdown",
   "id": "8ad3ec02",
   "metadata": {},
   "source": [
    "<img src = \"car-photo.png\"/>"
   ]
  },
  {
   "cell_type": "code",
   "execution_count": 106,
   "id": "6731366b",
   "metadata": {},
   "outputs": [
    {
     "data": {
      "text/plain": [
       "array([[0.4862745 , 0.4862745 , 0.46666667, 1.        ],\n",
       "       [0.61960787, 0.63529414, 0.60784316, 1.        ],\n",
       "       [0.68235296, 0.70980394, 0.6784314 , 1.        ],\n",
       "       ...,\n",
       "       [0.54509807, 0.5529412 , 0.4627451 , 1.        ],\n",
       "       [0.5058824 , 0.5176471 , 0.40784314, 1.        ],\n",
       "       [0.5058824 , 0.5176471 , 0.3882353 , 1.        ]], dtype=float32)"
      ]
     },
     "execution_count": 106,
     "metadata": {},
     "output_type": "execute_result"
    }
   ],
   "source": [
    "car = imread(\"car-photo.png\")\n",
    "car[5]"
   ]
  },
  {
   "cell_type": "code",
   "execution_count": null,
   "id": "0ad25c49",
   "metadata": {},
   "outputs": [],
   "source": []
  }
 ],
 "metadata": {
  "kernelspec": {
   "display_name": "Python 3 (ipykernel)",
   "language": "python",
   "name": "python3"
  },
  "language_info": {
   "codemirror_mode": {
    "name": "ipython",
    "version": 3
   },
   "file_extension": ".py",
   "mimetype": "text/x-python",
   "name": "python",
   "nbconvert_exporter": "python",
   "pygments_lexer": "ipython3",
   "version": "3.9.7"
  }
 },
 "nbformat": 4,
 "nbformat_minor": 5
}
